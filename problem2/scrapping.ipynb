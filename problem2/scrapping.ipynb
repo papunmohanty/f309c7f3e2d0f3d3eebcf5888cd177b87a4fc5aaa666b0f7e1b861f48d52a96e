{
 "cells": [
  {
   "cell_type": "code",
   "execution_count": 1,
   "id": "4fd83010",
   "metadata": {},
   "outputs": [],
   "source": [
    "import requests\n",
    "from bs4 import BeautifulSoup"
   ]
  },
  {
   "cell_type": "code",
   "execution_count": 2,
   "id": "cba0e0eb",
   "metadata": {},
   "outputs": [],
   "source": [
    "url = \"https://www.worldometers.info/coronavirus/\"\n",
    "response = requests.get(url)"
   ]
  },
  {
   "cell_type": "code",
   "execution_count": 3,
   "id": "697a872c",
   "metadata": {},
   "outputs": [
    {
     "name": "stdout",
     "output_type": "stream",
     "text": [
      "200\n"
     ]
    }
   ],
   "source": [
    "# Get status code:\n",
    "print(response.status_code)"
   ]
  },
  {
   "cell_type": "code",
   "execution_count": 29,
   "id": "fcd537af",
   "metadata": {},
   "outputs": [],
   "source": [
    "soup = BeautifulSoup(response.content)"
   ]
  },
  {
   "cell_type": "code",
   "execution_count": 30,
   "id": "078b9293",
   "metadata": {},
   "outputs": [
    {
     "data": {
      "text/plain": [
       "bs4.BeautifulSoup"
      ]
     },
     "execution_count": 30,
     "metadata": {},
     "output_type": "execute_result"
    }
   ],
   "source": [
    "type(soup)"
   ]
  },
  {
   "cell_type": "code",
   "execution_count": 5,
   "id": "f859b334",
   "metadata": {},
   "outputs": [],
   "source": [
    "results = soup.find(id=\"main_table_countries_today\")"
   ]
  },
  {
   "cell_type": "code",
   "execution_count": 6,
   "id": "e36122be",
   "metadata": {
    "tags": []
   },
   "outputs": [],
   "source": [
    "# results"
   ]
  },
  {
   "cell_type": "code",
   "execution_count": 7,
   "id": "0cf8867d",
   "metadata": {},
   "outputs": [],
   "source": [
    "all_tr_styles = [tr_styles if (tr_styles.get(\"style\")==\"\" or tr_styles.get(\"style\")==\"background-color:#F0F0F0\" or tr_styles.get(\"style\")==\"background-color:#EAF7D5\") else None for tr_styles in results.find_all(\"tr\")]"
   ]
  },
  {
   "cell_type": "code",
   "execution_count": 8,
   "id": "8a8e8363",
   "metadata": {},
   "outputs": [
    {
     "data": {
      "text/plain": [
       "239"
      ]
     },
     "execution_count": 8,
     "metadata": {},
     "output_type": "execute_result"
    }
   ],
   "source": [
    "len(all_tr_styles)"
   ]
  },
  {
   "cell_type": "code",
   "execution_count": 9,
   "id": "83116468",
   "metadata": {},
   "outputs": [
    {
     "data": {
      "text/plain": [
       "17"
      ]
     },
     "execution_count": 9,
     "metadata": {},
     "output_type": "execute_result"
    }
   ],
   "source": [
    "all_tr_styles.count(None)"
   ]
  },
  {
   "cell_type": "code",
   "execution_count": 10,
   "id": "0423cc71",
   "metadata": {},
   "outputs": [
    {
     "data": {
      "text/plain": [
       "222"
      ]
     },
     "execution_count": 10,
     "metadata": {},
     "output_type": "execute_result"
    }
   ],
   "source": [
    "len(all_tr_styles) - all_tr_styles.count(None)"
   ]
  },
  {
   "cell_type": "code",
   "execution_count": 11,
   "id": "930a4ce4",
   "metadata": {},
   "outputs": [],
   "source": [
    "# Filter all None elements\n",
    "all_tr_styles_none_filtered = list(filter(None, all_tr_styles))"
   ]
  },
  {
   "cell_type": "code",
   "execution_count": 12,
   "id": "187a7575",
   "metadata": {},
   "outputs": [
    {
     "data": {
      "text/plain": [
       "222"
      ]
     },
     "execution_count": 12,
     "metadata": {},
     "output_type": "execute_result"
    }
   ],
   "source": [
    "len(all_tr_styles_none_filtered)"
   ]
  },
  {
   "cell_type": "code",
   "execution_count": 13,
   "id": "4516ce58",
   "metadata": {},
   "outputs": [
    {
     "data": {
      "text/plain": [
       "<tr style=\"\">\n",
       "<td style=\"font-size:12px;color: grey;text-align:center;vertical-align:middle;\">1</td>\n",
       "<td style=\"font-weight: bold; font-size:15px; text-align:left;\"><a class=\"mt_a\" href=\"country/us/\">USA</a></td>\n",
       "<td style=\"font-weight: bold; text-align:right\">34,420,284</td>\n",
       "<td style=\"font-weight: bold; text-align:right;background-color:#FFEEAA;\">+446</td>\n",
       "<td style=\"font-weight: bold; text-align:right;\">617,517 </td>\n",
       "<td style=\"font-weight: bold; \n",
       "                                    text-align:right;background-color:red; color:white\">+54</td>\n",
       "<td style=\"font-weight: bold; text-align:right\">28,768,542</td>\n",
       "<td style=\"font-weight: bold; text-align:right;background-color:#c8e6c9; color:#000\">+1,035</td>\n",
       "<td style=\"text-align:right;font-weight:bold;\">5,034,225</td>\n",
       "<td style=\"font-weight: bold; text-align:right\">3,939</td>\n",
       "<td style=\"font-weight: bold; text-align:right\">103,399</td>\n",
       "<td style=\"font-weight: bold; text-align:right\">1,855</td>\n",
       "<td style=\"font-weight: bold; text-align:right\">500,165,159</td>\n",
       "<td style=\"font-weight: bold; text-align:right\">1,502,509</td>\n",
       "<td style=\"font-weight: bold; text-align:right\"><a href=\"/world-population/us-population/\">332,886,703</a> </td>\n",
       "<td data-continent=\"North America\" style=\"display:none\">North America</td>\n",
       "<td>10</td><td>539</td><td>1</td>\n",
       "<td style=\"font-weight: bold; text-align:right\">1</td>\n",
       "<td style=\"font-weight: bold; text-align:right\">0.2</td>\n",
       "<td style=\"font-weight: bold; text-align:right\">15,123</td>\n",
       "</tr>"
      ]
     },
     "execution_count": 13,
     "metadata": {},
     "output_type": "execute_result"
    }
   ],
   "source": [
    "# Extracting Headings/Columns\n",
    "all_tr_styles_none_filtered[0]"
   ]
  },
  {
   "cell_type": "code",
   "execution_count": 14,
   "id": "2dc0c7f6",
   "metadata": {},
   "outputs": [
    {
     "data": {
      "text/plain": [
       "<tr style=\"\">\n",
       "<td style=\"font-size:12px;color: grey;text-align:center;vertical-align:middle;\">2</td>\n",
       "<td style=\"font-weight: bold; font-size:15px; text-align:left;\"><a class=\"mt_a\" href=\"country/india/\">India</a></td>\n",
       "<td style=\"font-weight: bold; text-align:right\">30,002,691</td>\n",
       "<td style=\"font-weight: bold; text-align:right;background-color:#FFEEAA;\">+29,234</td>\n",
       "<td style=\"font-weight: bold; text-align:right;\">389,661 </td>\n",
       "<td style=\"font-weight: bold; \n",
       "                                    text-align:right;background-color:red; color:white\">+393</td>\n",
       "<td style=\"font-weight: bold; text-align:right\">28,950,726</td>\n",
       "<td style=\"font-weight: bold; text-align:right;background-color:#c8e6c9; color:#000\">+37,535</td>\n",
       "<td style=\"text-align:right;font-weight:bold;\">662,304</td>\n",
       "<td style=\"font-weight: bold; text-align:right\">8,944</td>\n",
       "<td style=\"font-weight: bold; text-align:right\">21,536</td>\n",
       "<td style=\"font-weight: bold; text-align:right\">280</td>\n",
       "<td style=\"font-weight: bold; text-align:right\">394,072,142</td>\n",
       "<td style=\"font-weight: bold; text-align:right\">282,862</td>\n",
       "<td style=\"font-weight: bold; text-align:right\"><a href=\"/world-population/india-population/\">1,393,160,854</a> </td>\n",
       "<td data-continent=\"Asia\" style=\"display:none\">Asia</td>\n",
       "<td>46</td><td>3,575</td><td>4</td>\n",
       "<td style=\"font-weight: bold; text-align:right\">21</td>\n",
       "<td style=\"font-weight: bold; text-align:right\">0.3</td>\n",
       "<td style=\"font-weight: bold; text-align:right\">475</td>\n",
       "</tr>"
      ]
     },
     "execution_count": 14,
     "metadata": {},
     "output_type": "execute_result"
    }
   ],
   "source": [
    "all_tr_styles_none_filtered[1]  # <3 India <3"
   ]
  },
  {
   "cell_type": "code",
   "execution_count": 15,
   "id": "5ab0849c",
   "metadata": {},
   "outputs": [
    {
     "data": {
      "text/plain": [
       "22"
      ]
     },
     "execution_count": 15,
     "metadata": {},
     "output_type": "execute_result"
    }
   ],
   "source": [
    "# Get Country Name\n",
    "len(all_tr_styles_none_filtered[1].find_all(\"td\"))"
   ]
  },
  {
   "cell_type": "code",
   "execution_count": 16,
   "id": "16b73ef8",
   "metadata": {},
   "outputs": [
    {
     "data": {
      "text/plain": [
       "<td style=\"font-weight: bold; text-align:right\">475</td>"
      ]
     },
     "execution_count": 16,
     "metadata": {},
     "output_type": "execute_result"
    }
   ],
   "source": [
    "all_tr_styles_none_filtered[1].find_all(\"td\")[-1]"
   ]
  },
  {
   "cell_type": "code",
   "execution_count": 17,
   "id": "4fd72a48",
   "metadata": {},
   "outputs": [
    {
     "data": {
      "text/plain": [
       "'India'"
      ]
     },
     "execution_count": 17,
     "metadata": {},
     "output_type": "execute_result"
    }
   ],
   "source": [
    "# Filter Country Name:\n",
    "all_tr_styles_none_filtered[1].find_all(\"td\")[1].text"
   ]
  },
  {
   "cell_type": "code",
   "execution_count": 18,
   "id": "3f26c42f",
   "metadata": {},
   "outputs": [
    {
     "data": {
      "text/plain": [
       "30002691"
      ]
     },
     "execution_count": 18,
     "metadata": {},
     "output_type": "execute_result"
    }
   ],
   "source": [
    "# Filter Total Case:\n",
    "int(all_tr_styles_none_filtered[1].find_all(\"td\")[2].text.replace(\",\", \"\"))"
   ]
  },
  {
   "cell_type": "code",
   "execution_count": 19,
   "id": "beda05da",
   "metadata": {},
   "outputs": [
    {
     "data": {
      "text/plain": [
       "662304"
      ]
     },
     "execution_count": 19,
     "metadata": {},
     "output_type": "execute_result"
    }
   ],
   "source": [
    "# Find Active Cases:\n",
    "int(all_tr_styles_none_filtered[1].find_all(\"td\")[8].text.replace(\",\", \"\"))"
   ]
  },
  {
   "cell_type": "code",
   "execution_count": 20,
   "id": "5c29ac37",
   "metadata": {},
   "outputs": [
    {
     "data": {
      "text/plain": [
       "389661"
      ]
     },
     "execution_count": 20,
     "metadata": {},
     "output_type": "execute_result"
    }
   ],
   "source": [
    "# Find Total Deaths:\n",
    "int(all_tr_styles_none_filtered[1].find_all(\"td\")[4].text.replace(\",\", \"\"))"
   ]
  },
  {
   "cell_type": "code",
   "execution_count": 21,
   "id": "425c7a4a",
   "metadata": {},
   "outputs": [
    {
     "data": {
      "text/plain": [
       "28950726"
      ]
     },
     "execution_count": 21,
     "metadata": {},
     "output_type": "execute_result"
    }
   ],
   "source": [
    "# Find Total Recovered:\n",
    "int(all_tr_styles_none_filtered[1].find_all(\"td\")[6].text.replace(\",\", \"\"))"
   ]
  },
  {
   "cell_type": "code",
   "execution_count": 22,
   "id": "92d1298d",
   "metadata": {},
   "outputs": [
    {
     "data": {
      "text/plain": [
       "0.9649376450932351"
      ]
     },
     "execution_count": 22,
     "metadata": {},
     "output_type": "execute_result"
    }
   ],
   "source": [
    "# Find Recovery Rate(Total Recovered/Total Cases):\n",
    "int(all_tr_styles_none_filtered[1].find_all(\"td\")[6].text.replace(\",\", \"\")) / int(all_tr_styles_none_filtered[1].find_all(\"td\")[2].text.replace(\",\", \"\"))"
   ]
  },
  {
   "cell_type": "code",
   "execution_count": 23,
   "id": "9d8de721",
   "metadata": {},
   "outputs": [
    {
     "data": {
      "text/plain": [
       "1393160854"
      ]
     },
     "execution_count": 23,
     "metadata": {},
     "output_type": "execute_result"
    }
   ],
   "source": [
    "# Find Population\n",
    "int(all_tr_styles_none_filtered[1].find_all(\"td\")[14].text.replace(\",\", \"\"))"
   ]
  },
  {
   "cell_type": "code",
   "execution_count": 24,
   "id": "1d6a7149",
   "metadata": {},
   "outputs": [
    {
     "data": {
      "text/plain": [
       "0.02153569770056143"
      ]
     },
     "execution_count": 24,
     "metadata": {},
     "output_type": "execute_result"
    }
   ],
   "source": [
    "# Find Percentage of Population Infected (TotalCases/Population)\n",
    "int(all_tr_styles_none_filtered[1].find_all(\"td\")[2].text.replace(\",\", \"\")) / int(all_tr_styles_none_filtered[1].find_all(\"td\")[14].text.replace(\",\", \"\"))"
   ]
  },
  {
   "cell_type": "code",
   "execution_count": 26,
   "id": "054c5098",
   "metadata": {},
   "outputs": [
    {
     "data": {
      "text/plain": [
       "<tr style=\"background-color:#F0F0F0\">\n",
       "<td style=\"font-size:12px;color: grey;text-align:center;vertical-align:middle;\">197</td>\n",
       "<td style=\"font-weight: bold; font-size:15px; text-align:left;\"><span style=\"color:#00B5F0; font-style:italic; \">Diamond Princess</span></td>\n",
       "<td style=\"font-weight: bold; text-align:right\">712</td>\n",
       "<td style=\"font-weight: bold; text-align:right;\"></td>\n",
       "<td style=\"font-weight: bold; text-align:right;\">13 </td>\n",
       "<td style=\"font-weight: bold; \n",
       "                                    text-align:right;\"></td>\n",
       "<td style=\"font-weight: bold; text-align:right\">699</td>\n",
       "<td style=\"font-weight: bold; text-align:right;\"></td>\n",
       "<td style=\"text-align:right;font-weight:bold;\">0</td>\n",
       "<td style=\"font-weight: bold; text-align:right\"></td>\n",
       "<td style=\"font-weight: bold; text-align:right\"></td>\n",
       "<td style=\"font-weight: bold; text-align:right\"></td>\n",
       "<td style=\"font-weight: bold; text-align:right\"></td>\n",
       "<td style=\"font-weight: bold; text-align:right\"></td>\n",
       "<td style=\"font-weight: bold; text-align:right\"> </td>\n",
       "<td data-continent=\"\" style=\"display:none\"></td>\n",
       "<td></td><td></td><td></td>\n",
       "<td style=\"font-weight: bold; text-align:right\"></td>\n",
       "<td style=\"font-weight: bold; text-align:right\"></td>\n",
       "<td style=\"font-weight: bold; text-align:right\"></td>\n",
       "</tr>"
      ]
     },
     "execution_count": 26,
     "metadata": {},
     "output_type": "execute_result"
    }
   ],
   "source": [
    "all_tr_styles_none_filtered[196]"
   ]
  },
  {
   "cell_type": "code",
   "execution_count": 27,
   "id": "5c7231b2",
   "metadata": {},
   "outputs": [
    {
     "data": {
      "text/plain": [
       "712"
      ]
     },
     "execution_count": 27,
     "metadata": {},
     "output_type": "execute_result"
    }
   ],
   "source": [
    "int(0 if (all_tr_styles_none_filtered[196].find_all(\"td\")[2].text.replace(\",\", \"\") == \"N/A\") else (all_tr_styles_none_filtered[196].find_all(\"td\")[2].text.replace(\",\", \"\")))"
   ]
  },
  {
   "cell_type": "code",
   "execution_count": 31,
   "id": "ff536d3a",
   "metadata": {},
   "outputs": [
    {
     "data": {
      "text/plain": [
       "bs4.element.Tag"
      ]
     },
     "execution_count": 31,
     "metadata": {},
     "output_type": "execute_result"
    }
   ],
   "source": [
    "type(all_tr_styles_none_filtered[196])"
   ]
  },
  {
   "cell_type": "code",
   "execution_count": null,
   "id": "f13bd5a1",
   "metadata": {},
   "outputs": [],
   "source": []
  }
 ],
 "metadata": {
  "kernelspec": {
   "display_name": "Python 3",
   "language": "python",
   "name": "python3"
  },
  "language_info": {
   "codemirror_mode": {
    "name": "ipython",
    "version": 3
   },
   "file_extension": ".py",
   "mimetype": "text/x-python",
   "name": "python",
   "nbconvert_exporter": "python",
   "pygments_lexer": "ipython3",
   "version": "3.8.5"
  }
 },
 "nbformat": 4,
 "nbformat_minor": 5
}
